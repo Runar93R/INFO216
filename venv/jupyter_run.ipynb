{
 "cells": [
  {
   "cell_type": "code",
   "execution_count": 1,
   "metadata": {
    "pycharm": {
     "is_executing": false
    }
   },
   "outputs": [
    {
     "name": "stderr",
     "text": [
      "/home/osboxes/.local/lib/python3.7/site-packages/ipykernel_launcher.py:56: TqdmDeprecationWarning: This function will be removed in tqdm==5.0.0\n",
      "Please use `tqdm.notebook.tqdm` instead of `tqdm.tqdm_notebook`\n"
     ],
     "output_type": "stream"
    },
    {
     "data": {
      "text/plain": "HBox(children=(FloatProgress(value=0.0, max=3.0), HTML(value='')))",
      "application/vnd.jupyter.widget-view+json": {
       "version_major": 2,
       "version_minor": 0,
       "model_id": "a0d478e9f6544a0eaf0d05104ba84200"
      }
     },
     "metadata": {},
     "output_type": "display_data"
    },
    {
     "name": "stdout",
     "text": [
      "\n",
      "[(0,\n",
      "  '0.087*\"skrive\" + 0.045*\"handling\" + 0.045*\"mann\" + 0.045*\"Helsingborg\" + '\n",
      "  '0.045*\"Helsingborgs\" + 0.045*\"avis\" + 0.045*\"formening\" + 0.045*\"mistenkt\" '\n",
      "  '+ 0.045*\"politi\" + 0.045*\"pågripe\"'),\n",
      " (1,\n",
      "  '0.019*\"skrive\" + 0.019*\"ferdig\" + 0.019*\"valg\" + 0.019*\"ringpingvine\" + '\n",
      "  '0.019*\"skje\" + 0.019*\"forrige\" + 0.019*\"Sinn\" + 0.019*\"160\" + '\n",
      "  '0.019*\"sprengladning\" + 0.019*\"pågripelse\"'),\n",
      " (2,\n",
      "  '0.019*\"skrive\" + 0.019*\"Sinn\" + 0.019*\"ringpingvine\" + 0.019*\"forrige\" + '\n",
      "  '0.019*\"Féin\" + 0.019*\"planlegge\" + 0.019*\"Reuters\" + 0.019*\"sprengladning\" '\n",
      "  '+ 0.019*\"160\" + 0.019*\"uke\"'),\n",
      " (3,\n",
      "  '0.080*\"Féin\" + 0.080*\"valg\" + 0.080*\"Sinn\" + 0.042*\"parti\" + 0.042*\"helgen\" '\n",
      "  '+ 0.042*\"natt\" + 0.042*\"Irland\" + 0.042*\"enstreorientert\" + 0.042*\"ferdig\" '\n",
      "  '+ 0.042*\"160\"'),\n",
      " (4,\n",
      "  '0.091*\"ringpingvine\" + 0.047*\"koloni\" + 0.047*\"blive\" + 0.047*\"bestand\" + '\n",
      "  '0.047*\"nyhetsbyrå\" + 0.047*\"skrive\" + 0.047*\"sist\" + 0.047*\"1970\" + '\n",
      "  '0.047*\"Antarktisk\" + 0.047*\"tall\"'),\n",
      " (5,\n",
      "  '0.019*\"skrive\" + 0.019*\"ringpingvine\" + 0.019*\"Sinn\" + 0.019*\"160\" + '\n",
      "  '0.019*\"Féin\" + 0.019*\"falle\" + 0.019*\"valg\" + 0.019*\"Reuters\" + 0.019*\"uke\" '\n",
      "  '+ 0.019*\"planlegge\"'),\n",
      " (6,\n",
      "  '0.019*\"skrive\" + 0.019*\"ringpingvine\" + 0.019*\"tall\" + 0.019*\"Sinn\" + '\n",
      "  '0.019*\"Féin\" + 0.019*\"skje\" + 0.019*\"valg\" + 0.019*\"37\" + 0.019*\"pågripe\" + '\n",
      "  '0.019*\"pågripelse\"'),\n",
      " (7,\n",
      "  '0.019*\"skrive\" + 0.019*\"ringpingvine\" + 0.019*\"160\" + 0.019*\"blive\" + '\n",
      "  '0.019*\"forrige\" + 0.019*\"Féin\" + 0.019*\"37\" + 0.019*\"pågripe\" + '\n",
      "  '0.019*\"sprengladning\" + 0.019*\"pågripelse\"'),\n",
      " (8,\n",
      "  '0.019*\"ringpingvine\" + 0.019*\"falle\" + 0.019*\"halvere\" + 0.019*\"øye\" + '\n",
      "  '0.019*\"kolonie\" + 0.019*\"Reuters\" + 0.019*\"77\" + 0.019*\"undersøke\" + '\n",
      "  '0.019*\"tall\" + 0.019*\"Antarktisk\"'),\n",
      " (9,\n",
      "  '0.019*\"skrive\" + 0.019*\"blive\" + 0.019*\"ringpingvine\" + 0.019*\"Sinn\" + '\n",
      "  '0.019*\"Féin\" + 0.019*\"Reuters\" + 0.019*\"forrige\" + 0.019*\"37\" + '\n",
      "  '0.019*\"pågripe\" + 0.019*\"uke\"')]\n"
     ],
     "output_type": "stream"
    }
   ],
   "source": [
    "import numpy as np\n",
    "import pandas as pd\n",
    "\n",
    "import gensim\n",
    "import gensim.corpora as corpora\n",
    "from gensim.utils import simple_preprocess\n",
    "from gensim.models import CoherenceModel\n",
    "\n",
    "import spacy\n",
    "from spacy.lemmatizer import Lemmatizer\n",
    "from spacy.lang.nb.stop_words import STOP_WORDS\n",
    "# importer norskspråkelig modul i spacy\n",
    "import nb_core_news_sm\n",
    "\n",
    "from tqdm import tqdm_notebook as tqdm\n",
    "from pprint import pprint\n",
    "\n",
    "nrk = pd.read_csv('include/nrk.csv', sep='\\t', skiprows=0, header=0)\n",
    "newest_doc = nrk['content']\n",
    "\n",
    "nlp = spacy.load(\"nb_core_news_sm\")\n",
    "\n",
    "# My list of stop words.\n",
    "stop_list = [\"sier\"]\n",
    "\n",
    "# Updates spaCy's default stop words list with my additional words.\n",
    "nlp.Defaults.stop_words.update(stop_list)\n",
    "\n",
    "# Iterates over the words in the stop words list and resets the \"is_stop\" flag.\n",
    "for word in STOP_WORDS:\n",
    "    lexeme = nlp.vocab[word]\n",
    "    lexeme.is_stop = True\n",
    "\n",
    "\n",
    "def lemmatizer(doc):\n",
    "    # This takes in a doc of tokens from the NER and lemmatizes them.\n",
    "    # Pronouns (like \"I\" and \"you\" get lemmatized to '-PRON-', so I'm removing those.\n",
    "    doc = [token.lemma_ for token in doc if token.lemma_ != '-PRON-']\n",
    "    doc = u' '.join(doc)\n",
    "    return nlp.make_doc(doc)\n",
    "\n",
    "\n",
    "def remove_stopwords(doc):\n",
    "    # This will remove stopwords and punctuation.\n",
    "    # Use token.text to return strings, which we'll need for Gensim.\n",
    "    doc = [token.text for token in doc if token.is_stop != True and token.is_punct != True]\n",
    "    return doc\n",
    "\n",
    "\n",
    "# The add_pipe function appends our functions to the default pipeline.\n",
    "nlp.add_pipe(lemmatizer, name='lemmatizer', after='ner')\n",
    "nlp.add_pipe(remove_stopwords, name=\"stopwords\", last=True)\n",
    "\n",
    "doc_list = []\n",
    "# Iterates through each article in the corpus.\n",
    "for doc in tqdm(newest_doc):\n",
    "    # Passes that article through the pipeline and adds to a new list.\n",
    "    pr = nlp(doc)\n",
    "    doc_list.append(pr)\n",
    "\n",
    "# Creates, which is a mapping of word IDs to words.\n",
    "words = corpora.Dictionary(doc_list)\n",
    "\n",
    "# Turns each document into a bag of words.\n",
    "corpus = [words.doc2bow(doc) for doc in doc_list]\n",
    "\n",
    "lda_model = gensim.models.ldamodel.LdaModel(corpus=corpus,\n",
    "                                           id2word=words,\n",
    "                                           num_topics=10,\n",
    "                                           random_state=2,\n",
    "                                           update_every=1,\n",
    "                                           passes=10,\n",
    "                                           alpha='auto',\n",
    "                                           per_word_topics=True)\n",
    "\n",
    "pprint(lda_model.print_topics(num_words=10))\n"
   ]
  },
  {
   "cell_type": "code",
   "execution_count": 1,
   "metadata": {
    "pycharm": {
     "is_executing": false
    }
   },
   "outputs": [],
   "source": []
  }
 ],
 "metadata": {
  "kernelspec": {
   "display_name": "Python 3",
   "language": "python",
   "name": "python3"
  },
  "language_info": {
   "codemirror_mode": {
    "name": "ipython",
    "version": 3
   },
   "file_extension": ".py",
   "mimetype": "text/x-python",
   "name": "python",
   "nbconvert_exporter": "python",
   "pygments_lexer": "ipython3",
   "version": "3.7.5"
  },
  "pycharm": {
   "stem_cell": {
    "cell_type": "raw",
    "source": [],
    "metadata": {
     "collapsed": false
    }
   }
  }
 },
 "nbformat": 4,
 "nbformat_minor": 2
}